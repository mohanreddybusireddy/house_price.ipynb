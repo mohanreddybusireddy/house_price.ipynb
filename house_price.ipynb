{
  "nbformat": 4,
  "nbformat_minor": 0,
  "metadata": {
    "colab": {
      "provenance": [],
      "authorship_tag": "ABX9TyMJKjiM/PVGCNyUxqxFxxbP",
      "include_colab_link": true
    },
    "kernelspec": {
      "name": "python3",
      "display_name": "Python 3"
    },
    "language_info": {
      "name": "python"
    }
  },
  "cells": [
    {
      "cell_type": "markdown",
      "metadata": {
        "id": "view-in-github",
        "colab_type": "text"
      },
      "source": [
        "<a href=\"https://colab.research.google.com/github/mohanreddybusireddy/house_price.ipynb/blob/main/house_price.ipynb\" target=\"_parent\"><img src=\"https://colab.research.google.com/assets/colab-badge.svg\" alt=\"Open In Colab\"/></a>"
      ]
    },
    {
      "cell_type": "code",
      "execution_count": null,
      "metadata": {
        "id": "Mt4c8k2Lq4d6"
      },
      "outputs": [],
      "source": []
    },
    {
      "cell_type": "code",
      "source": [
        "from sklearn.metrics import mean_squared_error\n",
        "import numpy as np\n",
        "\n",
        "# Actual house prices (ground truth)\n",
        "y_true = [200000, 300000, 350000, 450000, 500000]\n",
        "\n",
        "# Predicted prices from the model\n",
        "y_pred = [210000, 305000, 340000, 440000, 510000]\n",
        "\n",
        "# Manually calculating MSE\n",
        "errors = [(yt - yp)**2 for yt, yp in zip(y_true, y_pred)]\n",
        "mse_manual = sum(errors) / len(errors)\n",
        "\n",
        "# Using sklearn to calculate MSE\n",
        "mse_sklearn = mean_squared_error(y_true, y_pred)\n",
        "\n",
        "print(\"Manual MSE:\", mse_manual)\n",
        "print(\"Sklearn MSE:\", mse_sklearn)"
      ],
      "metadata": {
        "colab": {
          "base_uri": "https://localhost:8080/"
        },
        "id": "j1Yd9od7L-Gh",
        "outputId": "a7b0a91c-88ed-4d5a-dbcc-ff83c876706a"
      },
      "execution_count": null,
      "outputs": [
        {
          "output_type": "stream",
          "name": "stdout",
          "text": [
            "Manual MSE: 85000000.0\n",
            "Sklearn MSE: 85000000.0\n"
          ]
        }
      ]
    }
  ]
}